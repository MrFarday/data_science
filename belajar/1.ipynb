{
 "cells": [
  {
   "cell_type": "code",
   "execution_count": 2,
   "metadata": {},
   "outputs": [
    {
     "name": "stdout",
     "output_type": "stream",
     "text": [
      "Rekomendasi film untuk User 1:\n",
      "1. Film ID: 318\n",
      "2. Film ID: 589\n",
      "3. Film ID: 1198\n"
     ]
    }
   ],
   "source": [
    "import pandas as pd\n",
    "from sklearn.model_selection import train_test_split\n",
    "from sklearn.metrics.pairwise import cosine_similarity\n",
    "\n",
    "# Baca dataset\n",
    "ratings = pd.read_csv(\"https://s3-us-west-2.amazonaws.com/recommender-tutorial/ratings.csv\")\n",
    "\n",
    "# Fungsi training model sederhana\n",
    "def train_recommendation_model(ratings):\n",
    "    # Buat matriks interaksi pengguna-film\n",
    "    user_movie_matrix = ratings.pivot_table(\n",
    "        index='userId', \n",
    "        columns='movieId', \n",
    "        values='rating', \n",
    "        fill_value=0\n",
    "    )\n",
    "    \n",
    "    # Hitung similarity antar pengguna\n",
    "    user_similarity = cosine_similarity(user_movie_matrix)\n",
    "    \n",
    "    return user_movie_matrix, user_similarity\n",
    "\n",
    "# Fungsi prediksi rekomendasi\n",
    "def predict_recommendations(user_id, user_movie_matrix, user_similarity, top_n=3):\n",
    "    # Cari film yang belum dinilai user\n",
    "    user_ratings = user_movie_matrix.loc[user_id]\n",
    "    unrated_movies = user_ratings[user_ratings == 0].index\n",
    "    \n",
    "    # Hitung skor rekomendasi\n",
    "    recommendations = {}\n",
    "    for movie in unrated_movies:\n",
    "        movie_score = user_similarity[user_movie_matrix.index.get_loc(user_id)].dot(user_movie_matrix[movie])\n",
    "        recommendations[movie] = movie_score\n",
    "    \n",
    "    # Ambil top N rekomendasi\n",
    "    top_recommendations = sorted(\n",
    "        recommendations.items(), \n",
    "        key=lambda x: x[1], \n",
    "        reverse=True\n",
    "    )[:top_n]\n",
    "    \n",
    "    return [rec[0] for rec in top_recommendations]\n",
    "\n",
    "# Proses utama\n",
    "def main():\n",
    "    # Split data training dan testing\n",
    "    train_data, test_data = train_test_split(ratings, test_size=0.2, random_state=42)\n",
    "    \n",
    "    # Training model\n",
    "    user_movie_matrix, user_similarity = train_recommendation_model(train_data)\n",
    "    \n",
    "    # Contoh prediksi untuk satu user\n",
    "    sample_user = user_movie_matrix.index[0]\n",
    "    recommendations = predict_recommendations(\n",
    "        sample_user, \n",
    "        user_movie_matrix, \n",
    "        user_similarity\n",
    "    )\n",
    "    \n",
    "    print(f\"Rekomendasi film untuk User {sample_user}:\")\n",
    "    for idx, movie in enumerate(recommendations, 1):\n",
    "        print(f\"{idx}. Film ID: {movie}\")\n",
    "\n",
    "# Jalankan program\n",
    "main()"
   ]
  }
 ],
 "metadata": {
  "kernelspec": {
   "display_name": "env",
   "language": "python",
   "name": "python3"
  },
  "language_info": {
   "codemirror_mode": {
    "name": "ipython",
    "version": 3
   },
   "file_extension": ".py",
   "mimetype": "text/x-python",
   "name": "python",
   "nbconvert_exporter": "python",
   "pygments_lexer": "ipython3",
   "version": "3.12.6"
  }
 },
 "nbformat": 4,
 "nbformat_minor": 2
}
