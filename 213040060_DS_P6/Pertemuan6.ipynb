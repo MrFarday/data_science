{
 "cells": [
  {
   "cell_type": "code",
   "execution_count": 1,
   "metadata": {},
   "outputs": [],
   "source": [
    "import numpy as np\n",
    "import pandas as pd\n",
    "import sklearn\n",
    "import matplotlib.pyplot as plt\n",
    "import seaborn as sns\n",
    "import warnings\n",
    "from scipy.sparse import csr_matrix\n",
    "from sklearn.neighbors import NearestNeighbors\n",
    "warnings.simplefilter(action='ignore', category=FutureWarning)"
   ]
  },
  {
   "cell_type": "code",
   "execution_count": null,
   "metadata": {},
   "outputs": [],
   "source": [
    "# Download Dataset\n",
    "# 1. https://s3-us-west-2.amazonaws.com/recommender-tutorial/ratings.csv\n",
    "# 2. https://s3-us-west-2.amazonaws.com/recommender-tutorial/movies.csv\n"
   ]
  },
  {
   "cell_type": "code",
   "execution_count": 15,
   "metadata": {},
   "outputs": [
    {
     "data": {
      "text/html": [
       "<div>\n",
       "<style scoped>\n",
       "    .dataframe tbody tr th:only-of-type {\n",
       "        vertical-align: middle;\n",
       "    }\n",
       "\n",
       "    .dataframe tbody tr th {\n",
       "        vertical-align: top;\n",
       "    }\n",
       "\n",
       "    .dataframe thead th {\n",
       "        text-align: right;\n",
       "    }\n",
       "</style>\n",
       "<table border=\"1\" class=\"dataframe\">\n",
       "  <thead>\n",
       "    <tr style=\"text-align: right;\">\n",
       "      <th></th>\n",
       "      <th>userId</th>\n",
       "      <th>movieId</th>\n",
       "      <th>rating</th>\n",
       "      <th>timestamp</th>\n",
       "    </tr>\n",
       "  </thead>\n",
       "  <tbody>\n",
       "    <tr>\n",
       "      <th>0</th>\n",
       "      <td>1</td>\n",
       "      <td>1</td>\n",
       "      <td>4.0</td>\n",
       "      <td>964982703</td>\n",
       "    </tr>\n",
       "    <tr>\n",
       "      <th>1</th>\n",
       "      <td>1</td>\n",
       "      <td>3</td>\n",
       "      <td>4.0</td>\n",
       "      <td>964981247</td>\n",
       "    </tr>\n",
       "    <tr>\n",
       "      <th>2</th>\n",
       "      <td>1</td>\n",
       "      <td>6</td>\n",
       "      <td>4.0</td>\n",
       "      <td>964982224</td>\n",
       "    </tr>\n",
       "    <tr>\n",
       "      <th>3</th>\n",
       "      <td>1</td>\n",
       "      <td>47</td>\n",
       "      <td>5.0</td>\n",
       "      <td>964983815</td>\n",
       "    </tr>\n",
       "    <tr>\n",
       "      <th>4</th>\n",
       "      <td>1</td>\n",
       "      <td>50</td>\n",
       "      <td>5.0</td>\n",
       "      <td>964982931</td>\n",
       "    </tr>\n",
       "  </tbody>\n",
       "</table>\n",
       "</div>"
      ],
      "text/plain": [
       "   userId  movieId  rating  timestamp\n",
       "0       1        1     4.0  964982703\n",
       "1       1        3     4.0  964981247\n",
       "2       1        6     4.0  964982224\n",
       "3       1       47     5.0  964983815\n",
       "4       1       50     5.0  964982931"
      ]
     },
     "execution_count": 15,
     "metadata": {},
     "output_type": "execute_result"
    }
   ],
   "source": [
    "ratings = pd.read_csv(\"ratings.csv\")\n",
    "ratings.head()"
   ]
  },
  {
   "cell_type": "code",
   "execution_count": null,
   "metadata": {},
   "outputs": [
    {
     "name": "stdout",
     "output_type": "stream",
     "text": [
      "Kolom dalam dataset:\n",
      "Index(['userId', 'movieId', 'rating', 'timestamp'], dtype='object')\n"
     ]
    }
   ],
   "source": []
  },
  {
   "cell_type": "code",
   "execution_count": 8,
   "metadata": {},
   "outputs": [
    {
     "data": {
      "text/html": [
       "<div>\n",
       "<style scoped>\n",
       "    .dataframe tbody tr th:only-of-type {\n",
       "        vertical-align: middle;\n",
       "    }\n",
       "\n",
       "    .dataframe tbody tr th {\n",
       "        vertical-align: top;\n",
       "    }\n",
       "\n",
       "    .dataframe thead th {\n",
       "        text-align: right;\n",
       "    }\n",
       "</style>\n",
       "<table border=\"1\" class=\"dataframe\">\n",
       "  <thead>\n",
       "    <tr style=\"text-align: right;\">\n",
       "      <th></th>\n",
       "      <th>movieId</th>\n",
       "      <th>title</th>\n",
       "      <th>genres</th>\n",
       "    </tr>\n",
       "  </thead>\n",
       "  <tbody>\n",
       "    <tr>\n",
       "      <th>0</th>\n",
       "      <td>1</td>\n",
       "      <td>Toy Story (1995)</td>\n",
       "      <td>Adventure|Animation|Children|Comedy|Fantasy</td>\n",
       "    </tr>\n",
       "    <tr>\n",
       "      <th>1</th>\n",
       "      <td>2</td>\n",
       "      <td>Jumanji (1995)</td>\n",
       "      <td>Adventure|Children|Fantasy</td>\n",
       "    </tr>\n",
       "    <tr>\n",
       "      <th>2</th>\n",
       "      <td>3</td>\n",
       "      <td>Grumpier Old Men (1995)</td>\n",
       "      <td>Comedy|Romance</td>\n",
       "    </tr>\n",
       "    <tr>\n",
       "      <th>3</th>\n",
       "      <td>4</td>\n",
       "      <td>Waiting to Exhale (1995)</td>\n",
       "      <td>Comedy|Drama|Romance</td>\n",
       "    </tr>\n",
       "    <tr>\n",
       "      <th>4</th>\n",
       "      <td>5</td>\n",
       "      <td>Father of the Bride Part II (1995)</td>\n",
       "      <td>Comedy</td>\n",
       "    </tr>\n",
       "  </tbody>\n",
       "</table>\n",
       "</div>"
      ],
      "text/plain": [
       "   movieId                               title  \\\n",
       "0        1                    Toy Story (1995)   \n",
       "1        2                      Jumanji (1995)   \n",
       "2        3             Grumpier Old Men (1995)   \n",
       "3        4            Waiting to Exhale (1995)   \n",
       "4        5  Father of the Bride Part II (1995)   \n",
       "\n",
       "                                        genres  \n",
       "0  Adventure|Animation|Children|Comedy|Fantasy  \n",
       "1                   Adventure|Children|Fantasy  \n",
       "2                               Comedy|Romance  \n",
       "3                         Comedy|Drama|Romance  \n",
       "4                                       Comedy  "
      ]
     },
     "execution_count": 8,
     "metadata": {},
     "output_type": "execute_result"
    }
   ],
   "source": [
    "movies = pd.read_csv(\"https://s3-us-west-2.amazonaws.com/recommender-tutorial/movies.csv\")\n",
    "movies.head()"
   ]
  },
  {
   "cell_type": "code",
   "execution_count": 3,
   "metadata": {},
   "outputs": [
    {
     "name": "stdout",
     "output_type": "stream",
     "text": [
      "Number of ratings: 100836\n",
      "Number of unique movieId's: 9724\n",
      "Number of unique users: 610\n",
      "Average ratings per user: 165.3\n",
      "Average ratings per movie: 10.37\n"
     ]
    }
   ],
   "source": [
    "n_ratings = len(ratings)\n",
    "n_movies = len(ratings['movieId'].unique())\n",
    "n_users = len(ratings['userId'].unique())\n",
    "print(f\"Number of ratings: {n_ratings}\")\n",
    "print(f\"Number of unique movieId's: {n_movies}\")\n",
    "print(f\"Number of unique users: {n_users}\")\n",
    "print(f\"Average ratings per user: {round(n_ratings/n_users, 2)}\")\n",
    "print(f\"Average ratings per movie: {round(n_ratings/n_movies, 2)}\")"
   ]
  },
  {
   "cell_type": "code",
   "execution_count": 9,
   "metadata": {},
   "outputs": [
    {
     "data": {
      "text/html": [
       "<div>\n",
       "<style scoped>\n",
       "    .dataframe tbody tr th:only-of-type {\n",
       "        vertical-align: middle;\n",
       "    }\n",
       "\n",
       "    .dataframe tbody tr th {\n",
       "        vertical-align: top;\n",
       "    }\n",
       "\n",
       "    .dataframe thead th {\n",
       "        text-align: right;\n",
       "    }\n",
       "</style>\n",
       "<table border=\"1\" class=\"dataframe\">\n",
       "  <thead>\n",
       "    <tr style=\"text-align: right;\">\n",
       "      <th></th>\n",
       "      <th>userId</th>\n",
       "      <th>n_ratings</th>\n",
       "    </tr>\n",
       "  </thead>\n",
       "  <tbody>\n",
       "    <tr>\n",
       "      <th>0</th>\n",
       "      <td>1</td>\n",
       "      <td>232</td>\n",
       "    </tr>\n",
       "    <tr>\n",
       "      <th>1</th>\n",
       "      <td>2</td>\n",
       "      <td>29</td>\n",
       "    </tr>\n",
       "    <tr>\n",
       "      <th>2</th>\n",
       "      <td>3</td>\n",
       "      <td>39</td>\n",
       "    </tr>\n",
       "    <tr>\n",
       "      <th>3</th>\n",
       "      <td>4</td>\n",
       "      <td>216</td>\n",
       "    </tr>\n",
       "    <tr>\n",
       "      <th>4</th>\n",
       "      <td>5</td>\n",
       "      <td>44</td>\n",
       "    </tr>\n",
       "  </tbody>\n",
       "</table>\n",
       "</div>"
      ],
      "text/plain": [
       "   userId  n_ratings\n",
       "0       1        232\n",
       "1       2         29\n",
       "2       3         39\n",
       "3       4        216\n",
       "4       5         44"
      ]
     },
     "execution_count": 9,
     "metadata": {},
     "output_type": "execute_result"
    }
   ],
   "source": [
    "user_freq = ratings[['userId', 'movieId']].groupby('userId').count().reset_index()\n",
    "user_freq.columns = ['userId', 'n_ratings']\n",
    "user_freq.head()"
   ]
  },
  {
   "cell_type": "code",
   "execution_count": 10,
   "metadata": {},
   "outputs": [],
   "source": [
    "class MovieRecommender:\n",
    "    \n",
    "    \"\"\"\n",
    "    Recommendation Class \n",
    "        \n",
    "    \"\"\"\n",
    "    \n",
    "    def __init__(self,movie_name='Toy',number_of_recommend=10):\n",
    "        \n",
    "        print('\\033[4m'+'\\033[1m'+'Trying to find similar movies'+'\\033[0m')\n",
    "        try:\n",
    "            ratings,movies,movie_titles,idd_ = self.get_instances(movie_name)\n",
    "            self.movie_name = movie_name\n",
    "            self.movies = movies\n",
    "            self.movie_titles = movie_titles\n",
    "            self.ratings = ratings\n",
    "            self.idd_ = idd_\n",
    "            self.number_of_recommend = number_of_recommend\n",
    "\n",
    "            matrix_crs, user_mapper, self.movie_mapper, self.user_inv_mapper, self.movie_inv_mapper = self.matrix(self.ratings)\n",
    "            neighbour_ids = self.predict_(self.idd_,matrix_crs,k=number_of_recommend)\n",
    "            self.recommend(neighbour_ids,movie_titles)\n",
    "            print('\\nDone')\n",
    "        except:\n",
    "               print('Movie not founded!')\n",
    "\n",
    "    \n",
    "    \n",
    "    def matrix(self,df):\n",
    "\n",
    "        user_unique = len(df['userId'].unique())\n",
    "        movie_unique = len(df['movieId'].unique())\n",
    "\n",
    "        # Map Ids to indices\n",
    "        user_mapper = dict(zip(np.unique(df[\"userId\"]), list(range(user_unique))))\n",
    "        movie_mapper = dict(zip(np.unique(df[\"movieId\"]), list(range(movie_unique))))\n",
    "\n",
    "        # Map indices to IDs\n",
    "        user_inv_mapper = dict(zip(list(range(user_unique)), np.unique(df[\"userId\"])))\n",
    "        movie_inv_mapper = dict(zip(list(range(movie_unique)), np.unique(df[\"movieId\"])))\n",
    "\n",
    "        user_index = [user_mapper[i] for i in df['userId']]\n",
    "        movie_index = [movie_mapper[i] for i in df['movieId']]\n",
    "\n",
    "        matrix = csr_matrix((df[\"rating\"], (movie_index, user_index)), shape=(movie_unique, user_unique))\n",
    "\n",
    "        return matrix, user_mapper, movie_mapper, user_inv_mapper, movie_inv_mapper\n",
    "\n",
    "    \n",
    "    def predict_(self,movie_id, data, k, metric='cosine', show_distance=False):\n",
    "\n",
    "        neighbour_ids = []\n",
    "\n",
    "        movie_ind = self.movie_mapper[movie_id]\n",
    "        movie_vec = data[movie_ind]\n",
    "        k+=1\n",
    "        kNN = NearestNeighbors(n_neighbors=k, algorithm=\"brute\", metric=metric)\n",
    "        kNN.fit(data)\n",
    "        movie_vec = movie_vec.reshape(1,-1)\n",
    "        neighbour = kNN.kneighbors(movie_vec, return_distance=show_distance)\n",
    "        for i in range(0,k):\n",
    "            n = neighbour.item(i)\n",
    "            neighbour_ids.append(self.movie_inv_mapper[n])\n",
    "        neighbour_ids.pop(0)\n",
    "        return neighbour_ids\n",
    "\n",
    "    def recommend(self,similar_ids,movie_titles):\n",
    "        \n",
    "        print('\\033[1m'f\"\\nRecommendation for movie : {self.movie_name}\\n\")\n",
    "        for i in similar_ids:\n",
    "            print('\\033[1m'+'\\033[92m'+movie_titles[i])\n",
    "            \n",
    "    def get_instances(self,movie_name):\n",
    "\n",
    "        ratings = pd.read_csv(\"https://s3-us-west-2.amazonaws.com/recommender-tutorial/ratings.csv\")\n",
    "        movies = pd.read_csv(\"https://s3-us-west-2.amazonaws.com/recommender-tutorial/movies.csv\")\n",
    "        movie_titles = dict(zip(movies['movieId'], movies['title']))\n",
    "        movie_table = pd.DataFrame(movie_titles.items(),columns=['movie_id','movie_name'])\n",
    "        movie_table['movie_name'] = movie_table['movie_name'].str.lower()\n",
    "        idd_ = pd.DataFrame(movie_table.movie_id.where(movie_table['movie_name'].str.contains(str(movie_name).lower())))\n",
    "        idd_ = int(idd_[idd_.movie_id.notna()]['movie_id'].iloc[0])\n",
    "        return ratings,movies,movie_titles,idd_"
   ]
  },
  {
   "cell_type": "code",
   "execution_count": 11,
   "metadata": {},
   "outputs": [
    {
     "name": "stdout",
     "output_type": "stream",
     "text": [
      "\u001b[4m\u001b[1mTrying to find similar movies\u001b[0m\n",
      "\u001b[1m\n",
      "Recommendation for movie : Spider-man\n",
      "\n",
      "\u001b[1m\u001b[92mSpider-Man 2 (2004)\n",
      "\u001b[1m\u001b[92mStar Wars: Episode II - Attack of the Clones (2002)\n",
      "\u001b[1m\u001b[92mMinority Report (2002)\n",
      "\u001b[1m\u001b[92mX2: X-Men United (2003)\n",
      "\u001b[1m\u001b[92mX-Men (2000)\n",
      "\u001b[1m\u001b[92mPirates of the Caribbean: The Curse of the Black Pearl (2003)\n",
      "\u001b[1m\u001b[92mLord of the Rings: The Fellowship of the Ring, The (2001)\n",
      "\n",
      "Done\n"
     ]
    },
    {
     "data": {
      "text/plain": [
       "<__main__.MovieRecommender at 0x1689ca1d100>"
      ]
     },
     "execution_count": 11,
     "metadata": {},
     "output_type": "execute_result"
    }
   ],
   "source": [
    "MovieRecommender('Spider-man',number_of_recommend=7)"
   ]
  },
  {
   "cell_type": "code",
   "execution_count": 12,
   "metadata": {},
   "outputs": [
    {
     "name": "stdout",
     "output_type": "stream",
     "text": [
      "\u001b[4m\u001b[1mTrying to find similar movies\u001b[0m\n",
      "\u001b[1m\n",
      "Recommendation for movie : avatar\n",
      "\n",
      "\u001b[1m\u001b[92mUp (2009)\n",
      "\u001b[1m\u001b[92mIron Man (2008)\n",
      "\u001b[1m\u001b[92mDistrict 9 (2009)\n",
      "\u001b[1m\u001b[92mWALL·E (2008)\n",
      "\u001b[1m\u001b[92mHangover, The (2009)\n",
      "\n",
      "Done\n"
     ]
    },
    {
     "data": {
      "text/plain": [
       "<__main__.MovieRecommender at 0x168ab102ed0>"
      ]
     },
     "execution_count": 12,
     "metadata": {},
     "output_type": "execute_result"
    }
   ],
   "source": [
    "MovieRecommender('avatar',number_of_recommend=5)"
   ]
  },
  {
   "cell_type": "code",
   "execution_count": 13,
   "metadata": {},
   "outputs": [
    {
     "name": "stdout",
     "output_type": "stream",
     "text": [
      "\u001b[4m\u001b[1mTrying to find similar movies\u001b[0m\n",
      "\u001b[1m\n",
      "Recommendation for movie : Forrest Gump\n",
      "\n",
      "\u001b[1m\u001b[92mShawshank Redemption, The (1994)\n",
      "\u001b[1m\u001b[92mJurassic Park (1993)\n",
      "\u001b[1m\u001b[92mPulp Fiction (1994)\n",
      "\u001b[1m\u001b[92mBraveheart (1995)\n",
      "\u001b[1m\u001b[92mSilence of the Lambs, The (1991)\n",
      "\u001b[1m\u001b[92mApollo 13 (1995)\n",
      "\u001b[1m\u001b[92mMatrix, The (1999)\n",
      "\u001b[1m\u001b[92mMrs. Doubtfire (1993)\n",
      "\u001b[1m\u001b[92mSchindler's List (1993)\n",
      "\u001b[1m\u001b[92mTerminator 2: Judgment Day (1991)\n",
      "\u001b[1m\u001b[92mLion King, The (1994)\n",
      "\u001b[1m\u001b[92mSeven (a.k.a. Se7en) (1995)\n",
      "\n",
      "Done\n"
     ]
    },
    {
     "data": {
      "text/plain": [
       "<__main__.MovieRecommender at 0x168c02ab8f0>"
      ]
     },
     "execution_count": 13,
     "metadata": {},
     "output_type": "execute_result"
    }
   ],
   "source": [
    "MovieRecommender('Forrest Gump',number_of_recommend=12)"
   ]
  },
  {
   "cell_type": "code",
   "execution_count": null,
   "metadata": {},
   "outputs": [],
   "source": []
  }
 ],
 "metadata": {
  "kernelspec": {
   "display_name": "env",
   "language": "python",
   "name": "python3"
  },
  "language_info": {
   "codemirror_mode": {
    "name": "ipython",
    "version": 3
   },
   "file_extension": ".py",
   "mimetype": "text/x-python",
   "name": "python",
   "nbconvert_exporter": "python",
   "pygments_lexer": "ipython3",
   "version": "3.12.6"
  }
 },
 "nbformat": 4,
 "nbformat_minor": 2
}
