{
 "cells": [
  {
   "cell_type": "code",
   "execution_count": 2,
   "metadata": {},
   "outputs": [
    {
     "name": "stdout",
     "output_type": "stream",
     "text": [
      "Unexpected exception formatting exception. Falling back to standard exception\n"
     ]
    },
    {
     "name": "stderr",
     "output_type": "stream",
     "text": [
      "Traceback (most recent call last):\n",
      "  File \"c:\\Users\\ThinkPad\\Documents\\Semester 7\\Codingan\\213040060_DS_P2\\env\\Lib\\site-packages\\IPython\\core\\interactiveshell.py\", line 3577, in run_code\n",
      "  File \"C:\\Users\\ThinkPad\\AppData\\Local\\Temp\\ipykernel_14552\\591319436.py\", line 15, in <module>\n",
      "    df_kotor.to_csv(\"data_kotor.csv\", index=False)\n",
      "  File \"c:\\Users\\ThinkPad\\Documents\\Semester 7\\Codingan\\213040060_DS_P2\\env\\Lib\\site-packages\\pandas\\util\\_decorators.py\", line 333, in wrapper\n",
      "  File \"c:\\Users\\ThinkPad\\Documents\\Semester 7\\Codingan\\213040060_DS_P2\\env\\Lib\\site-packages\\pandas\\core\\generic.py\", line 3967, in to_csv\n",
      "  File \"c:\\Users\\ThinkPad\\Documents\\Semester 7\\Codingan\\213040060_DS_P2\\env\\Lib\\site-packages\\pandas\\io\\formats\\format.py\", line 987, in to_csv\n",
      "ModuleNotFoundError: No module named 'pandas.io.formats.csvs'\n",
      "\n",
      "During handling of the above exception, another exception occurred:\n",
      "\n",
      "Traceback (most recent call last):\n",
      "  File \"c:\\Users\\ThinkPad\\Documents\\Semester 7\\Codingan\\213040060_DS_P2\\env\\Lib\\site-packages\\pygments\\styles\\__init__.py\", line 45, in get_style_by_name\n",
      "ModuleNotFoundError: No module named 'pygments.styles.default'\n",
      "\n",
      "During handling of the above exception, another exception occurred:\n",
      "\n",
      "Traceback (most recent call last):\n",
      "  File \"c:\\Users\\ThinkPad\\Documents\\Semester 7\\Codingan\\213040060_DS_P2\\env\\Lib\\site-packages\\IPython\\core\\interactiveshell.py\", line 2168, in showtraceback\n",
      "  File \"c:\\Users\\ThinkPad\\Documents\\Semester 7\\Codingan\\213040060_DS_P2\\env\\Lib\\site-packages\\IPython\\core\\ultratb.py\", line 1457, in structured_traceback\n",
      "  File \"c:\\Users\\ThinkPad\\Documents\\Semester 7\\Codingan\\213040060_DS_P2\\env\\Lib\\site-packages\\IPython\\core\\ultratb.py\", line 1348, in structured_traceback\n",
      "  File \"c:\\Users\\ThinkPad\\Documents\\Semester 7\\Codingan\\213040060_DS_P2\\env\\Lib\\site-packages\\IPython\\core\\ultratb.py\", line 1195, in structured_traceback\n",
      "  File \"c:\\Users\\ThinkPad\\Documents\\Semester 7\\Codingan\\213040060_DS_P2\\env\\Lib\\site-packages\\IPython\\core\\ultratb.py\", line 1085, in format_exception_as_a_whole\n",
      "  File \"c:\\Users\\ThinkPad\\Documents\\Semester 7\\Codingan\\213040060_DS_P2\\env\\Lib\\site-packages\\IPython\\core\\ultratb.py\", line 1136, in get_records\n",
      "  File \"c:\\Users\\ThinkPad\\Documents\\Semester 7\\Codingan\\213040060_DS_P2\\env\\Lib\\site-packages\\pygments\\styles\\__init__.py\", line 47, in get_style_by_name\n",
      "pygments.util.ClassNotFound: Could not find style module 'pygments.styles.default', though it should be builtin.\n"
     ]
    }
   ],
   "source": [
    "import pandas as pd\n",
    "\n",
    "# Membuat data kotor dengan minimal 5 baris dan 3 kasus yang perlu dibersihkan\n",
    "data_kotor = {\n",
    "    \"Nama\": [\"Andi\", \"Budi\", None, \"Citra \", \"Dewi\"],\n",
    "    \"Umur\": [25, \"Tiga Puluh\", 45, 29, \"32 tahun\"],\n",
    "    \"Email\": [\"andi@email.com\", \"budi.email.com\", \"citra@email.com\", None, \"dewi@email..com\"],\n",
    "    \"Gaji\": [\"5000000\", \"7500000\", \"9000000\", None, \"6.000.000\"]\n",
    "}\n",
    "\n",
    "# Membuat DataFrame dari data kotor\n",
    "df_kotor = pd.DataFrame(data_kotor)\n",
    "\n",
    "# Menyimpan ke file .ipynb\n",
    "df_kotor.to_csv(\"data_kotor.csv\", index=False)\n",
    "df_kotor\n"
   ]
  },
  {
   "cell_type": "code",
   "execution_count": 1,
   "metadata": {},
   "outputs": [
    {
     "data": {
      "text/html": [
       "<div>\n",
       "<style scoped>\n",
       "    .dataframe tbody tr th:only-of-type {\n",
       "        vertical-align: middle;\n",
       "    }\n",
       "\n",
       "    .dataframe tbody tr th {\n",
       "        vertical-align: top;\n",
       "    }\n",
       "\n",
       "    .dataframe thead th {\n",
       "        text-align: right;\n",
       "    }\n",
       "</style>\n",
       "<table border=\"1\" class=\"dataframe\">\n",
       "  <thead>\n",
       "    <tr style=\"text-align: right;\">\n",
       "      <th></th>\n",
       "      <th>Nama</th>\n",
       "      <th>Umur</th>\n",
       "      <th>Email</th>\n",
       "      <th>Gaji</th>\n",
       "    </tr>\n",
       "  </thead>\n",
       "  <tbody>\n",
       "    <tr>\n",
       "      <th>0</th>\n",
       "      <td>Andi</td>\n",
       "      <td>25.0</td>\n",
       "      <td>andi@email.com</td>\n",
       "      <td>5000000.0</td>\n",
       "    </tr>\n",
       "    <tr>\n",
       "      <th>1</th>\n",
       "      <td>Dewi</td>\n",
       "      <td>32.0</td>\n",
       "      <td>dewi@email..com</td>\n",
       "      <td>6000000.0</td>\n",
       "    </tr>\n",
       "  </tbody>\n",
       "</table>\n",
       "</div>"
      ],
      "text/plain": [
       "   Nama  Umur            Email       Gaji\n",
       "0  Andi  25.0   andi@email.com  5000000.0\n",
       "1  Dewi  32.0  dewi@email..com  6000000.0"
      ]
     },
     "execution_count": 1,
     "metadata": {},
     "output_type": "execute_result"
    },
    {
     "ename": "",
     "evalue": "",
     "output_type": "error",
     "traceback": [
      "\u001b[1;31mnotebook controller is DISPOSED. \n",
      "\u001b[1;31mView Jupyter <a href='command:jupyter.viewOutput'>log</a> for further details."
     ]
    }
   ],
   "source": [
    "import pandas as pd\n",
    "\n",
    "# Membuat data kotor\n",
    "data_kotor = {\n",
    "    \"Nama\": [\"Andi\", \"Budi\", None, \"Citra \", \"Dewi\"],\n",
    "    \"Umur\": [25, \"Tiga Puluh\", 45, 29, \"32 tahun\"],\n",
    "    \"Email\": [\"andi@email.com\", \"budi.email.com\", \"citra@email.com\", None, \"dewi@email..com\"],\n",
    "    \"Gaji\": [\"5000000\", \"7500000\", \"9000000\", None, \"6.000.000\"]\n",
    "}\n",
    "\n",
    "# Membuat DataFrame dari data kotor\n",
    "df_kotor = pd.DataFrame(data_kotor)\n",
    "\n",
    "# Membersihkan data\n",
    "# 1. Menghapus spasi di nama\n",
    "df_kotor['Nama'] = df_kotor['Nama'].str.strip()\n",
    "\n",
    "# 2. Mengubah umur ke tipe integer, dengan penanganan kasus teks\n",
    "def clean_age(age):\n",
    "    if isinstance(age, str):\n",
    "        if age.isdigit():\n",
    "            return int(age)\n",
    "        elif \"tahun\" in age:\n",
    "            return int(age.split()[0])\n",
    "        else:\n",
    "            return None\n",
    "    return age\n",
    "\n",
    "df_kotor['Umur'] = df_kotor['Umur'].apply(clean_age)\n",
    "\n",
    "# 3. Memperbaiki format email\n",
    "def clean_email(email):\n",
    "    if pd.isna(email) or email.count('@') != 1 or email.count('.') < 1:\n",
    "        return None\n",
    "    return email\n",
    "\n",
    "df_kotor['Email'] = df_kotor['Email'].apply(clean_email)\n",
    "\n",
    "# 4. Mengubah gaji ke format numerik\n",
    "def clean_salary(salary):\n",
    "    if pd.isna(salary):\n",
    "        return None\n",
    "    salary = salary.replace(\".\", \"\").replace(\",\", \"\")\n",
    "    if salary.isdigit():\n",
    "        return int(salary)\n",
    "    return None\n",
    "\n",
    "df_kotor['Gaji'] = df_kotor['Gaji'].apply(clean_salary)\n",
    "\n",
    "# Menampilkan DataFrame yang sudah dibersihkan\n",
    "df_bersih = df_kotor.dropna()\n",
    "df_bersih.reset_index(drop=True, inplace=True)\n",
    "df_bersih\n"
   ]
  },
  {
   "cell_type": "code",
   "execution_count": 9,
   "metadata": {},
   "outputs": [
    {
     "data": {
      "text/plain": [
       "('label_encoding.csv', 'one_hot_encoding.csv')"
      ]
     },
     "execution_count": 9,
     "metadata": {},
     "output_type": "execute_result"
    },
    {
     "ename": "",
     "evalue": "",
     "output_type": "error",
     "traceback": [
      "\u001b[1;31mnotebook controller is DISPOSED. \n",
      "\u001b[1;31mView Jupyter <a href='command:jupyter.viewOutput'>log</a> for further details."
     ]
    }
   ],
   "source": [
    "import pandas as pd\n",
    "\n",
    "# Data hari\n",
    "hari = [\"Senin\", \"Selasa\", \"Rabu\", \"Kamis\", \"Jumat\"]\n",
    "\n",
    "# Label Encoding\n",
    "label_encoding = [i for i in range(len(hari))]\n",
    "\n",
    "# One-Hot Encoding\n",
    "one_hot_encoding = pd.get_dummies(hari, prefix='Hari')\n",
    "\n",
    "# Membuat DataFrame\n",
    "data = {\n",
    "    \"Hari\": hari,\n",
    "    \"Label Encoding\": label_encoding\n",
    "}\n",
    "df_label = pd.DataFrame(data)\n",
    "df_one_hot = one_hot_encoding\n",
    "\n",
    "# Menyimpan ke CSV\n",
    "csv_label_path = 'label_encoding.csv'\n",
    "csv_one_hot_path = 'one_hot_encoding.csv'\n",
    "df_label.to_csv(csv_label_path, index=False)\n",
    "df_one_hot.to_csv(csv_one_hot_path, index=False)\n",
    "\n",
    "csv_label_path, csv_one_hot_path\n"
   ]
  }
 ],
 "metadata": {
  "kernelspec": {
   "display_name": "env",
   "language": "python",
   "name": "python3"
  },
  "language_info": {
   "codemirror_mode": {
    "name": "ipython",
    "version": 3
   },
   "file_extension": ".py",
   "mimetype": "text/x-python",
   "name": "python",
   "nbconvert_exporter": "python",
   "pygments_lexer": "ipython3",
   "version": "3.12.6"
  }
 },
 "nbformat": 4,
 "nbformat_minor": 2
}
