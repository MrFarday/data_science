{
 "cells": [
  {
   "cell_type": "code",
   "execution_count": 1,
   "metadata": {},
   "outputs": [
    {
     "ename": "",
     "evalue": "",
     "output_type": "error",
     "traceback": [
      "\u001b[1;31mThe kernel failed to start as the Python Environment 'Python 3.12.6' is no longer available. Consider selecting another kernel or refreshing the list of Python Environments."
     ]
    }
   ],
   "source": [
    "import csv\n",
    "\n",
    "# Data pengaruh hari terhadap konsumsi telur\n",
    "data = [\n",
    "    [\"Hari\", \"Konsumsi Telur (Butir)\"],\n",
    "    [\"Senin\", 2],\n",
    "    [\"Selasa\", 3],\n",
    "    [\"Rabu\", 1],\n",
    "    [\"Kamis\", 4],\n",
    "    [\"Jumat\", 2],\n",
    "    [\"Sabtu\", 6],\n",
    "    [\"Minggu\", 5]\n",
    "]\n",
    "\n",
    "# Menyimpan data ke file CSV\n",
    "with open('konsumsi_telur.csv', mode='w', newline='') as file:\n",
    "    writer = csv.writer(file)\n",
    "    writer.writerows(data)\n",
    "\n",
    "print(\"File CSV berhasil dibuat!\")\n"
   ]
  },
  {
   "cell_type": "code",
   "execution_count": 12,
   "metadata": {},
   "outputs": [],
   "source": [
    "import pandas as pd\n",
    "import numpy as np\n",
    "import matplotlib.pyplot as plt\n",
    "import seaborn as sns\n",
    "wbc = pd.read_csv('konsumsi_telur.csv')\n",
    "wbc.head()\n"
   ]
  },
  {
   "cell_type": "code",
   "execution_count": null,
   "metadata": {},
   "outputs": [],
   "source": [
    "# Membuat grafik dengan Seaborn (Tambahan)\n",
    "import matplotlib.pyplot as plt\n",
    "import seaborn as sns\n",
    "import pandas as pd \n",
    "\n",
    "wbc = pd.read_csv('konsumsi_telur.csv')\n",
    "wbc.head()\n",
    "\n",
    "plt.figure(figsize=(6,5))  # Ukuran grafik\n",
    "sns.barplot(x='Hari', y='Konsumsi Telur (Butir)', data=wbc)\n",
    "plt.title('Konsumsi Telur per Hari', fontsize=16)\n",
    "plt.xlabel('Hari', fontsize=12)\n",
    "plt.ylabel('Jumlah Telur (Butir)', fontsize=12)\n",
    "plt.xticks(rotation=90)  # Memutar label pada sumbu X\n",
    "plt.tight_layout()  # Agar layout lebih rapi\n",
    "plt.show()"
   ]
  },
  {
   "cell_type": "code",
   "execution_count": null,
   "metadata": {},
   "outputs": [],
   "source": []
  }
 ],
 "metadata": {
  "kernelspec": {
   "display_name": "Python 3",
   "language": "python",
   "name": "python3"
  },
  "language_info": {
   "codemirror_mode": {
    "name": "ipython",
    "version": 3
   },
   "file_extension": ".py",
   "mimetype": "text/x-python",
   "name": "python",
   "nbconvert_exporter": "python",
   "pygments_lexer": "ipython3",
   "version": "3.12.6"
  }
 },
 "nbformat": 4,
 "nbformat_minor": 2
}
